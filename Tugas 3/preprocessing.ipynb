{
 "cells": [
  {
   "cell_type": "code",
   "execution_count": 55,
   "metadata": {},
   "outputs": [],
   "source": [
    "import pandas as pd\n",
    "import numpy as np\n",
    "import matplotlib.pyplot as plt\n",
    "from sklearn.compose import ColumnTransformer\n",
    "from sklearn.preprocessing import OneHotEncoder\n",
    "from sklearn.impute import SimpleImputer\n",
    "from sklearn.preprocessing import LabelEncoder\n",
    "from sklearn.model_selection import train_test_split\n",
    "from sklearn.preprocessing import StandardScaler"
   ]
  },
  {
   "cell_type": "code",
   "execution_count": 37,
   "metadata": {},
   "outputs": [],
   "source": [
    "data = pd.read_csv(\"gender_classification_v7.csv\")\n",
    "x = data.iloc[:, :-1].values\n",
    "y = data.iloc[:, -1].values"
   ]
  },
  {
   "cell_type": "code",
   "execution_count": 38,
   "metadata": {},
   "outputs": [
    {
     "name": "stdout",
     "output_type": "stream",
     "text": [
      "[[ 1.  11.8  6.1 ...  0.   1.   1. ]\n",
      " [ 0.  14.   5.4 ...  0.   1.   0. ]\n",
      " [ 0.  11.8  6.3 ...  1.   1.   1. ]\n",
      " ...\n",
      " [ 1.  12.9  5.7 ...  0.   0.   0. ]\n",
      " [ 1.  13.2  6.2 ...  0.   0.   0. ]\n",
      " [ 1.  15.4  5.4 ...  1.   1.   1. ]]\n"
     ]
    }
   ],
   "source": [
    "print(x)"
   ]
  },
  {
   "cell_type": "code",
   "execution_count": 39,
   "metadata": {},
   "outputs": [
    {
     "name": "stdout",
     "output_type": "stream",
     "text": [
      "['Male' 'Female' 'Male' ... 'Female' 'Female' 'Male']\n"
     ]
    }
   ],
   "source": [
    "print(y)\n"
   ]
  },
  {
   "cell_type": "markdown",
   "metadata": {},
   "source": [
    "Menghilangkan Missing Value"
   ]
  },
  {
   "cell_type": "code",
   "execution_count": 40,
   "metadata": {},
   "outputs": [],
   "source": [
    "imputer = SimpleImputer(missing_values=np.nan, strategy='mean')\n",
    "imputer.fit(x[:, 1:3])\n",
    "x[:, 1:3] = imputer.transform(x[:, 1:3])"
   ]
  },
  {
   "cell_type": "code",
   "execution_count": 41,
   "metadata": {},
   "outputs": [
    {
     "name": "stdout",
     "output_type": "stream",
     "text": [
      "[[ 1.  11.8  6.1 ...  0.   1.   1. ]\n",
      " [ 0.  14.   5.4 ...  0.   1.   0. ]\n",
      " [ 0.  11.8  6.3 ...  1.   1.   1. ]\n",
      " ...\n",
      " [ 1.  12.9  5.7 ...  0.   0.   0. ]\n",
      " [ 1.  13.2  6.2 ...  0.   0.   0. ]\n",
      " [ 1.  15.4  5.4 ...  1.   1.   1. ]]\n"
     ]
    }
   ],
   "source": [
    "print(x)"
   ]
  },
  {
   "cell_type": "markdown",
   "metadata": {},
   "source": [
    "Encoding Atribut"
   ]
  },
  {
   "cell_type": "code",
   "execution_count": 42,
   "metadata": {},
   "outputs": [],
   "source": [
    "ct = ColumnTransformer(transformers=[('encoder', OneHotEncoder(), [0])], remainder='passthrough')\n",
    "x = np.array(ct.fit_transform(x))"
   ]
  },
  {
   "cell_type": "code",
   "execution_count": 43,
   "metadata": {},
   "outputs": [
    {
     "name": "stdout",
     "output_type": "stream",
     "text": [
      "[[ 0.   1.  11.8 ...  0.   1.   1. ]\n",
      " [ 1.   0.  14.  ...  0.   1.   0. ]\n",
      " [ 1.   0.  11.8 ...  1.   1.   1. ]\n",
      " ...\n",
      " [ 0.   1.  12.9 ...  0.   0.   0. ]\n",
      " [ 0.   1.  13.2 ...  0.   0.   0. ]\n",
      " [ 0.   1.  15.4 ...  1.   1.   1. ]]\n"
     ]
    }
   ],
   "source": [
    "print(x)"
   ]
  },
  {
   "cell_type": "markdown",
   "metadata": {},
   "source": [
    "Encoding class / label"
   ]
  },
  {
   "cell_type": "code",
   "execution_count": 46,
   "metadata": {},
   "outputs": [],
   "source": [
    "le = LabelEncoder()\n",
    "y = le.fit_transform(y)"
   ]
  },
  {
   "cell_type": "code",
   "execution_count": 47,
   "metadata": {},
   "outputs": [
    {
     "name": "stdout",
     "output_type": "stream",
     "text": [
      "[1 0 1 ... 0 0 1]\n"
     ]
    }
   ],
   "source": [
    "print(y)"
   ]
  },
  {
   "cell_type": "markdown",
   "metadata": {},
   "source": [
    "Membagi dataset ke dalam training set dan test set"
   ]
  },
  {
   "cell_type": "code",
   "execution_count": 49,
   "metadata": {},
   "outputs": [],
   "source": [
    "x_train, x_test, y_train, y_test = train_test_split(x, y, test_size=0.2, random_state=1)"
   ]
  },
  {
   "cell_type": "code",
   "execution_count": 50,
   "metadata": {},
   "outputs": [
    {
     "name": "stdout",
     "output_type": "stream",
     "text": [
      "[[ 0.   1.  12.3 ...  1.   1.   1. ]\n",
      " [ 1.   0.  13.4 ...  0.   0.   0. ]\n",
      " [ 0.   1.  11.8 ...  1.   1.   1. ]\n",
      " ...\n",
      " [ 0.   1.  13.4 ...  0.   0.   0. ]\n",
      " [ 0.   1.  13.7 ...  1.   1.   1. ]\n",
      " [ 0.   1.  15.1 ...  1.   1.   1. ]]\n"
     ]
    }
   ],
   "source": [
    "print(x_train)"
   ]
  },
  {
   "cell_type": "code",
   "execution_count": 51,
   "metadata": {},
   "outputs": [
    {
     "name": "stdout",
     "output_type": "stream",
     "text": [
      "[[ 0.   1.  12.8 ...  0.   1.   0. ]\n",
      " [ 0.   1.  12.3 ...  1.   1.   1. ]\n",
      " [ 0.   1.  11.5 ...  0.   0.   0. ]\n",
      " ...\n",
      " [ 0.   1.  12.9 ...  1.   1.   1. ]\n",
      " [ 0.   1.  12.7 ...  1.   1.   1. ]\n",
      " [ 0.   1.  13.6 ...  0.   0.   0. ]]\n"
     ]
    }
   ],
   "source": [
    "print(x_test)"
   ]
  },
  {
   "cell_type": "code",
   "execution_count": 52,
   "metadata": {},
   "outputs": [
    {
     "name": "stdout",
     "output_type": "stream",
     "text": [
      "[1 0 1 ... 0 1 1]\n"
     ]
    }
   ],
   "source": [
    "print(y_train)"
   ]
  },
  {
   "cell_type": "code",
   "execution_count": 53,
   "metadata": {},
   "outputs": [
    {
     "name": "stdout",
     "output_type": "stream",
     "text": [
      "[0 1 0 ... 1 1 0]\n"
     ]
    }
   ],
   "source": [
    "print(y_test)"
   ]
  },
  {
   "cell_type": "markdown",
   "metadata": {},
   "source": [
    "Feature Scalling"
   ]
  },
  {
   "cell_type": "code",
   "execution_count": 57,
   "metadata": {},
   "outputs": [],
   "source": [
    "sc = StandardScaler()\n",
    "x_train[:, 3:] = sc.fit_transform(x_train[:, 3:])\n",
    "x_test[:, 3:] = sc.transform(x_test[:, 3:])"
   ]
  },
  {
   "cell_type": "code",
   "execution_count": 58,
   "metadata": {},
   "outputs": [
    {
     "name": "stdout",
     "output_type": "stream",
     "text": [
      "[[ 0.          1.         12.3        ...  0.97676975  1.01969389\n",
      "   1.00050013]\n",
      " [ 1.          0.         13.4        ... -1.02378273 -0.98068647\n",
      "  -0.99950012]\n",
      " [ 0.          1.         11.8        ...  0.97676975  1.01969389\n",
      "   1.00050013]\n",
      " ...\n",
      " [ 0.          1.         13.4        ... -1.02378273 -0.98068647\n",
      "  -0.99950012]\n",
      " [ 0.          1.         13.7        ...  0.97676975  1.01969389\n",
      "   1.00050013]\n",
      " [ 0.          1.         15.1        ...  0.97676975  1.01969389\n",
      "   1.00050013]]\n"
     ]
    }
   ],
   "source": [
    "print(x_train)"
   ]
  },
  {
   "cell_type": "code",
   "execution_count": 59,
   "metadata": {},
   "outputs": [
    {
     "name": "stdout",
     "output_type": "stream",
     "text": [
      "[[ 0.          1.         12.8        ... -1.02378273  1.01969389\n",
      "  -0.99950012]\n",
      " [ 0.          1.         12.3        ...  0.97676975  1.01969389\n",
      "   1.00050013]\n",
      " [ 0.          1.         11.5        ... -1.02378273 -0.98068647\n",
      "  -0.99950012]\n",
      " ...\n",
      " [ 0.          1.         12.9        ...  0.97676975  1.01969389\n",
      "   1.00050013]\n",
      " [ 0.          1.         12.7        ...  0.97676975  1.01969389\n",
      "   1.00050013]\n",
      " [ 0.          1.         13.6        ... -1.02378273 -0.98068647\n",
      "  -0.99950012]]\n"
     ]
    }
   ],
   "source": [
    "print(x_test)"
   ]
  }
 ],
 "metadata": {
  "kernelspec": {
   "display_name": "Python 3",
   "language": "python",
   "name": "python3"
  },
  "language_info": {
   "codemirror_mode": {
    "name": "ipython",
    "version": 3
   },
   "file_extension": ".py",
   "mimetype": "text/x-python",
   "name": "python",
   "nbconvert_exporter": "python",
   "pygments_lexer": "ipython3",
   "version": "3.12.3"
  }
 },
 "nbformat": 4,
 "nbformat_minor": 2
}
